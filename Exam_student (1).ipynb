{
 "cells": [
  {
   "cell_type": "markdown",
   "metadata": {},
   "source": [
    "# Exam R\n",
    "Teun Graat, 1273840",
    "\n",
    "# Introduction\n",
    "\n",
    "The exam consists of 2 parts. In the first part, you have to run a regression, test if the assumptions of a linear regression model are met, and make 2 graphs.\n",
    "\n",
    "In the second part of the exam, you will have to make a map of Catholic and Protestant schools in the Netherlands.\n",
    "\n",
    "# Packages\n"
   ]
  },
  {
   "cell_type": "code",
   "execution_count": 73,
   "metadata": {},
   "outputs": [
    {
     "name": "stderr",
     "output_type": "stream",
     "text": [
      "Warning message:\n",
      "\"package 'devtools' is in use and will not be installed\"Warning message:\n",
      "\"Username parameter is deprecated. Please use kassambara/easyGgplot2\"Skipping install of 'easyGgplot2' from a github remote, the SHA1 (cb017c1c) has not changed since last install.\n",
      "  Use `force = TRUE` to force installation\n"
     ]
    }
   ],
   "source": [
    "library(tidyverse)\n",
    "library(gvlma)\n",
    "install.packages(\"devtools\")\n",
    "library(devtools)\n",
    "install_github(\"easyGgplot2\", \"kassambara\")\n",
    "library(easyGgplot2)"
   ]
  },
  {
   "cell_type": "markdown",
   "metadata": {},
   "source": [
    "# Assignment 1\n",
    "\n",
    "\n",
    "## Data\n",
    "\n",
    "The data are given:\n"
   ]
  },
  {
   "cell_type": "code",
   "execution_count": 13,
   "metadata": {},
   "outputs": [
    {
     "data": {
      "text/html": [
       "<table>\n",
       "<thead><tr><th scope=col>V1</th><th scope=col>epsilon</th><th scope=col>response</th><th scope=col>group</th></tr></thead>\n",
       "<tbody>\n",
       "\t<tr><td>3.588198   </td><td>-3.37338662</td><td> -7.5497820</td><td>1          </td></tr>\n",
       "\t<tr><td>8.094746   </td><td> 1.67557409</td><td>-11.5139183</td><td>2          </td></tr>\n",
       "\t<tr><td>4.680792   </td><td> 0.30674624</td><td> -6.0548384</td><td>1          </td></tr>\n",
       "\t<tr><td>8.947157   </td><td>-2.27627387</td><td>-17.1705871</td><td>2          </td></tr>\n",
       "\t<tr><td>9.464206   </td><td> 2.50762984</td><td>-13.4207813</td><td>2          </td></tr>\n",
       "\t<tr><td>1.410008   </td><td> 0.85292844</td><td>  1.0329115</td><td>1          </td></tr>\n",
       "\t<tr><td>5.752949   </td><td>-0.59014297</td><td> -9.0960418</td><td>2          </td></tr>\n",
       "\t<tr><td>9.031771   </td><td> 1.79025132</td><td>-13.2732915</td><td>2          </td></tr>\n",
       "\t<tr><td>5.962915   </td><td> 1.75626698</td><td> -7.1695633</td><td>2          </td></tr>\n",
       "\t<tr><td>5.109533   </td><td> 1.64316216</td><td> -5.5759031</td><td>2          </td></tr>\n",
       "\t<tr><td>9.611500   </td><td> 1.37728051</td><td>-14.8457197</td><td>2          </td></tr>\n",
       "\t<tr><td>5.080007   </td><td> 1.10783531</td><td> -6.0521795</td><td>2          </td></tr>\n",
       "\t<tr><td>7.098136   </td><td>-0.12382342</td><td>-11.3200949</td><td>2          </td></tr>\n",
       "\t<tr><td>6.153701   </td><td>-0.61192533</td><td> -9.9193266</td><td>2          </td></tr>\n",
       "\t<tr><td>1.926322   </td><td>-0.76094200</td><td> -1.6135863</td><td>1          </td></tr>\n",
       "\t<tr><td>9.098425   </td><td>-1.38941396</td><td>-16.5862634</td><td>2          </td></tr>\n",
       "\t<tr><td>3.214790   </td><td>-0.41583456</td><td> -3.8454138</td><td>1          </td></tr>\n",
       "\t<tr><td>1.378536   </td><td>-2.53079270</td><td> -2.2878643</td><td>1          </td></tr>\n",
       "\t<tr><td>3.951286   </td><td> 4.33791193</td><td> -0.5646610</td><td>1          </td></tr>\n",
       "\t<tr><td>9.590533   </td><td> 2.41592400</td><td>-13.7651417</td><td>2          </td></tr>\n",
       "\t<tr><td>9.005854   </td><td>-2.24621717</td><td>-17.2579249</td><td>2          </td></tr>\n",
       "\t<tr><td>7.235231   </td><td>-0.80576967</td><td>-12.2762310</td><td>2          </td></tr>\n",
       "\t<tr><td>6.764561   </td><td>-0.93331071</td><td>-11.4624334</td><td>2          </td></tr>\n",
       "\t<tr><td>9.948428   </td><td> 1.55993024</td><td>-15.3369257</td><td>2          </td></tr>\n",
       "\t<tr><td>6.901352   </td><td>-0.16673813</td><td>-10.9694425</td><td>2          </td></tr>\n",
       "\t<tr><td>7.376774   </td><td> 0.50663703</td><td>-11.2469114</td><td>2          </td></tr>\n",
       "\t<tr><td>5.896594   </td><td>-0.05709351</td><td> -8.8502820</td><td>2          </td></tr>\n",
       "\t<tr><td>6.347278   </td><td>-0.08574091</td><td> -9.7802973</td><td>2          </td></tr>\n",
       "\t<tr><td>3.602438   </td><td> 2.73720457</td><td> -1.4676707</td><td>1          </td></tr>\n",
       "\t<tr><td>2.324023   </td><td>-0.45154197</td><td> -2.0995876</td><td>1          </td></tr>\n",
       "\t<tr><td>9.667218   </td><td> 3.03294121</td><td>-13.3014950</td><td>2          </td></tr>\n",
       "\t<tr><td>9.120691   </td><td>-3.09750561</td><td>-18.3388884</td><td>2          </td></tr>\n",
       "\t<tr><td>7.216348   </td><td> 1.16922750</td><td>-10.2634675</td><td>2          </td></tr>\n",
       "\t<tr><td>8.159207   </td><td> 0.24770849</td><td>-13.0707050</td><td>2          </td></tr>\n",
       "\t<tr><td>1.221523   </td><td> 0.43188314</td><td>  0.9888368</td><td>1          </td></tr>\n",
       "\t<tr><td>5.300164   </td><td> 0.75927897</td><td> -6.8410485</td><td>2          </td></tr>\n",
       "\t<tr><td>7.826136   </td><td>-1.00464691</td><td>-13.6569186</td><td>2          </td></tr>\n",
       "\t<tr><td>2.947671   </td><td>-0.66641477</td><td> -3.5617576</td><td>1          </td></tr>\n",
       "\t<tr><td>3.863629   </td><td>-2.03715077</td><td> -6.7644089</td><td>1          </td></tr>\n",
       "\t<tr><td>3.084632   </td><td>-2.14358245</td><td> -5.3128466</td><td>1          </td></tr>\n",
       "\t<tr><td>2.285200   </td><td> 0.60705728</td><td> -0.9633431</td><td>1          </td></tr>\n",
       "\t<tr><td>4.730917   </td><td> 0.89641956</td><td> -5.5654145</td><td>1          </td></tr>\n",
       "\t<tr><td>4.723519   </td><td> 0.10600845</td><td> -6.3410294</td><td>1          </td></tr>\n",
       "\t<tr><td>4.319609   </td><td> 1.84453494</td><td> -3.7946832</td><td>1          </td></tr>\n",
       "\t<tr><td>2.372003   </td><td> 4.10016937</td><td>  2.3561639</td><td>1          </td></tr>\n",
       "\t<tr><td>2.249255   </td><td>-0.98206233</td><td> -2.4805715</td><td>1          </td></tr>\n",
       "\t<tr><td>3.097307   </td><td>-4.61833775</td><td> -7.8129515</td><td>1          </td></tr>\n",
       "\t<tr><td>5.193662   </td><td> 2.01147705</td><td> -5.3758471</td><td>2          </td></tr>\n",
       "\t<tr><td>3.393754   </td><td>-1.41840153</td><td> -5.2059091</td><td>1          </td></tr>\n",
       "\t<tr><td>8.720449   </td><td>-1.37601723</td><td>-15.8169161</td><td>2          </td></tr>\n",
       "</tbody>\n",
       "</table>\n"
      ],
      "text/latex": [
       "\\begin{tabular}{r|llll}\n",
       " V1 & epsilon & response & group\\\\\n",
       "\\hline\n",
       "\t 3.588198    & -3.37338662 &  -7.5497820 & 1          \\\\\n",
       "\t 8.094746    &  1.67557409 & -11.5139183 & 2          \\\\\n",
       "\t 4.680792    &  0.30674624 &  -6.0548384 & 1          \\\\\n",
       "\t 8.947157    & -2.27627387 & -17.1705871 & 2          \\\\\n",
       "\t 9.464206    &  2.50762984 & -13.4207813 & 2          \\\\\n",
       "\t 1.410008    &  0.85292844 &   1.0329115 & 1          \\\\\n",
       "\t 5.752949    & -0.59014297 &  -9.0960418 & 2          \\\\\n",
       "\t 9.031771    &  1.79025132 & -13.2732915 & 2          \\\\\n",
       "\t 5.962915    &  1.75626698 &  -7.1695633 & 2          \\\\\n",
       "\t 5.109533    &  1.64316216 &  -5.5759031 & 2          \\\\\n",
       "\t 9.611500    &  1.37728051 & -14.8457197 & 2          \\\\\n",
       "\t 5.080007    &  1.10783531 &  -6.0521795 & 2          \\\\\n",
       "\t 7.098136    & -0.12382342 & -11.3200949 & 2          \\\\\n",
       "\t 6.153701    & -0.61192533 &  -9.9193266 & 2          \\\\\n",
       "\t 1.926322    & -0.76094200 &  -1.6135863 & 1          \\\\\n",
       "\t 9.098425    & -1.38941396 & -16.5862634 & 2          \\\\\n",
       "\t 3.214790    & -0.41583456 &  -3.8454138 & 1          \\\\\n",
       "\t 1.378536    & -2.53079270 &  -2.2878643 & 1          \\\\\n",
       "\t 3.951286    &  4.33791193 &  -0.5646610 & 1          \\\\\n",
       "\t 9.590533    &  2.41592400 & -13.7651417 & 2          \\\\\n",
       "\t 9.005854    & -2.24621717 & -17.2579249 & 2          \\\\\n",
       "\t 7.235231    & -0.80576967 & -12.2762310 & 2          \\\\\n",
       "\t 6.764561    & -0.93331071 & -11.4624334 & 2          \\\\\n",
       "\t 9.948428    &  1.55993024 & -15.3369257 & 2          \\\\\n",
       "\t 6.901352    & -0.16673813 & -10.9694425 & 2          \\\\\n",
       "\t 7.376774    &  0.50663703 & -11.2469114 & 2          \\\\\n",
       "\t 5.896594    & -0.05709351 &  -8.8502820 & 2          \\\\\n",
       "\t 6.347278    & -0.08574091 &  -9.7802973 & 2          \\\\\n",
       "\t 3.602438    &  2.73720457 &  -1.4676707 & 1          \\\\\n",
       "\t 2.324023    & -0.45154197 &  -2.0995876 & 1          \\\\\n",
       "\t 9.667218    &  3.03294121 & -13.3014950 & 2          \\\\\n",
       "\t 9.120691    & -3.09750561 & -18.3388884 & 2          \\\\\n",
       "\t 7.216348    &  1.16922750 & -10.2634675 & 2          \\\\\n",
       "\t 8.159207    &  0.24770849 & -13.0707050 & 2          \\\\\n",
       "\t 1.221523    &  0.43188314 &   0.9888368 & 1          \\\\\n",
       "\t 5.300164    &  0.75927897 &  -6.8410485 & 2          \\\\\n",
       "\t 7.826136    & -1.00464691 & -13.6569186 & 2          \\\\\n",
       "\t 2.947671    & -0.66641477 &  -3.5617576 & 1          \\\\\n",
       "\t 3.863629    & -2.03715077 &  -6.7644089 & 1          \\\\\n",
       "\t 3.084632    & -2.14358245 &  -5.3128466 & 1          \\\\\n",
       "\t 2.285200    &  0.60705728 &  -0.9633431 & 1          \\\\\n",
       "\t 4.730917    &  0.89641956 &  -5.5654145 & 1          \\\\\n",
       "\t 4.723519    &  0.10600845 &  -6.3410294 & 1          \\\\\n",
       "\t 4.319609    &  1.84453494 &  -3.7946832 & 1          \\\\\n",
       "\t 2.372003    &  4.10016937 &   2.3561639 & 1          \\\\\n",
       "\t 2.249255    & -0.98206233 &  -2.4805715 & 1          \\\\\n",
       "\t 3.097307    & -4.61833775 &  -7.8129515 & 1          \\\\\n",
       "\t 5.193662    &  2.01147705 &  -5.3758471 & 2          \\\\\n",
       "\t 3.393754    & -1.41840153 &  -5.2059091 & 1          \\\\\n",
       "\t 8.720449    & -1.37601723 & -15.8169161 & 2          \\\\\n",
       "\\end{tabular}\n"
      ],
      "text/markdown": [
       "\n",
       "V1 | epsilon | response | group | \n",
       "|---|---|---|---|---|---|---|---|---|---|---|---|---|---|---|---|---|---|---|---|---|---|---|---|---|---|---|---|---|---|---|---|---|---|---|---|---|---|---|---|---|---|---|---|---|---|---|---|---|---|\n",
       "| 3.588198    | -3.37338662 |  -7.5497820 | 1           | \n",
       "| 8.094746    |  1.67557409 | -11.5139183 | 2           | \n",
       "| 4.680792    |  0.30674624 |  -6.0548384 | 1           | \n",
       "| 8.947157    | -2.27627387 | -17.1705871 | 2           | \n",
       "| 9.464206    |  2.50762984 | -13.4207813 | 2           | \n",
       "| 1.410008    |  0.85292844 |   1.0329115 | 1           | \n",
       "| 5.752949    | -0.59014297 |  -9.0960418 | 2           | \n",
       "| 9.031771    |  1.79025132 | -13.2732915 | 2           | \n",
       "| 5.962915    |  1.75626698 |  -7.1695633 | 2           | \n",
       "| 5.109533    |  1.64316216 |  -5.5759031 | 2           | \n",
       "| 9.611500    |  1.37728051 | -14.8457197 | 2           | \n",
       "| 5.080007    |  1.10783531 |  -6.0521795 | 2           | \n",
       "| 7.098136    | -0.12382342 | -11.3200949 | 2           | \n",
       "| 6.153701    | -0.61192533 |  -9.9193266 | 2           | \n",
       "| 1.926322    | -0.76094200 |  -1.6135863 | 1           | \n",
       "| 9.098425    | -1.38941396 | -16.5862634 | 2           | \n",
       "| 3.214790    | -0.41583456 |  -3.8454138 | 1           | \n",
       "| 1.378536    | -2.53079270 |  -2.2878643 | 1           | \n",
       "| 3.951286    |  4.33791193 |  -0.5646610 | 1           | \n",
       "| 9.590533    |  2.41592400 | -13.7651417 | 2           | \n",
       "| 9.005854    | -2.24621717 | -17.2579249 | 2           | \n",
       "| 7.235231    | -0.80576967 | -12.2762310 | 2           | \n",
       "| 6.764561    | -0.93331071 | -11.4624334 | 2           | \n",
       "| 9.948428    |  1.55993024 | -15.3369257 | 2           | \n",
       "| 6.901352    | -0.16673813 | -10.9694425 | 2           | \n",
       "| 7.376774    |  0.50663703 | -11.2469114 | 2           | \n",
       "| 5.896594    | -0.05709351 |  -8.8502820 | 2           | \n",
       "| 6.347278    | -0.08574091 |  -9.7802973 | 2           | \n",
       "| 3.602438    |  2.73720457 |  -1.4676707 | 1           | \n",
       "| 2.324023    | -0.45154197 |  -2.0995876 | 1           | \n",
       "| 9.667218    |  3.03294121 | -13.3014950 | 2           | \n",
       "| 9.120691    | -3.09750561 | -18.3388884 | 2           | \n",
       "| 7.216348    |  1.16922750 | -10.2634675 | 2           | \n",
       "| 8.159207    |  0.24770849 | -13.0707050 | 2           | \n",
       "| 1.221523    |  0.43188314 |   0.9888368 | 1           | \n",
       "| 5.300164    |  0.75927897 |  -6.8410485 | 2           | \n",
       "| 7.826136    | -1.00464691 | -13.6569186 | 2           | \n",
       "| 2.947671    | -0.66641477 |  -3.5617576 | 1           | \n",
       "| 3.863629    | -2.03715077 |  -6.7644089 | 1           | \n",
       "| 3.084632    | -2.14358245 |  -5.3128466 | 1           | \n",
       "| 2.285200    |  0.60705728 |  -0.9633431 | 1           | \n",
       "| 4.730917    |  0.89641956 |  -5.5654145 | 1           | \n",
       "| 4.723519    |  0.10600845 |  -6.3410294 | 1           | \n",
       "| 4.319609    |  1.84453494 |  -3.7946832 | 1           | \n",
       "| 2.372003    |  4.10016937 |   2.3561639 | 1           | \n",
       "| 2.249255    | -0.98206233 |  -2.4805715 | 1           | \n",
       "| 3.097307    | -4.61833775 |  -7.8129515 | 1           | \n",
       "| 5.193662    |  2.01147705 |  -5.3758471 | 2           | \n",
       "| 3.393754    | -1.41840153 |  -5.2059091 | 1           | \n",
       "| 8.720449    | -1.37601723 | -15.8169161 | 2           | \n",
       "\n",
       "\n"
      ],
      "text/plain": [
       "   V1       epsilon     response    group\n",
       "1  3.588198 -3.37338662  -7.5497820 1    \n",
       "2  8.094746  1.67557409 -11.5139183 2    \n",
       "3  4.680792  0.30674624  -6.0548384 1    \n",
       "4  8.947157 -2.27627387 -17.1705871 2    \n",
       "5  9.464206  2.50762984 -13.4207813 2    \n",
       "6  1.410008  0.85292844   1.0329115 1    \n",
       "7  5.752949 -0.59014297  -9.0960418 2    \n",
       "8  9.031771  1.79025132 -13.2732915 2    \n",
       "9  5.962915  1.75626698  -7.1695633 2    \n",
       "10 5.109533  1.64316216  -5.5759031 2    \n",
       "11 9.611500  1.37728051 -14.8457197 2    \n",
       "12 5.080007  1.10783531  -6.0521795 2    \n",
       "13 7.098136 -0.12382342 -11.3200949 2    \n",
       "14 6.153701 -0.61192533  -9.9193266 2    \n",
       "15 1.926322 -0.76094200  -1.6135863 1    \n",
       "16 9.098425 -1.38941396 -16.5862634 2    \n",
       "17 3.214790 -0.41583456  -3.8454138 1    \n",
       "18 1.378536 -2.53079270  -2.2878643 1    \n",
       "19 3.951286  4.33791193  -0.5646610 1    \n",
       "20 9.590533  2.41592400 -13.7651417 2    \n",
       "21 9.005854 -2.24621717 -17.2579249 2    \n",
       "22 7.235231 -0.80576967 -12.2762310 2    \n",
       "23 6.764561 -0.93331071 -11.4624334 2    \n",
       "24 9.948428  1.55993024 -15.3369257 2    \n",
       "25 6.901352 -0.16673813 -10.9694425 2    \n",
       "26 7.376774  0.50663703 -11.2469114 2    \n",
       "27 5.896594 -0.05709351  -8.8502820 2    \n",
       "28 6.347278 -0.08574091  -9.7802973 2    \n",
       "29 3.602438  2.73720457  -1.4676707 1    \n",
       "30 2.324023 -0.45154197  -2.0995876 1    \n",
       "31 9.667218  3.03294121 -13.3014950 2    \n",
       "32 9.120691 -3.09750561 -18.3388884 2    \n",
       "33 7.216348  1.16922750 -10.2634675 2    \n",
       "34 8.159207  0.24770849 -13.0707050 2    \n",
       "35 1.221523  0.43188314   0.9888368 1    \n",
       "36 5.300164  0.75927897  -6.8410485 2    \n",
       "37 7.826136 -1.00464691 -13.6569186 2    \n",
       "38 2.947671 -0.66641477  -3.5617576 1    \n",
       "39 3.863629 -2.03715077  -6.7644089 1    \n",
       "40 3.084632 -2.14358245  -5.3128466 1    \n",
       "41 2.285200  0.60705728  -0.9633431 1    \n",
       "42 4.730917  0.89641956  -5.5654145 1    \n",
       "43 4.723519  0.10600845  -6.3410294 1    \n",
       "44 4.319609  1.84453494  -3.7946832 1    \n",
       "45 2.372003  4.10016937   2.3561639 1    \n",
       "46 2.249255 -0.98206233  -2.4805715 1    \n",
       "47 3.097307 -4.61833775  -7.8129515 1    \n",
       "48 5.193662  2.01147705  -5.3758471 2    \n",
       "49 3.393754 -1.41840153  -5.2059091 1    \n",
       "50 8.720449 -1.37601723 -15.8169161 2    "
      ]
     },
     "metadata": {},
     "output_type": "display_data"
    }
   ],
   "source": [
    "set.seed(123)\n",
    "df1 <- as.data.frame(matrix(runif(1*50, min = 1, max = 10), ncol = 1)) %>%\n",
    "    mutate(epsilon = rnorm(50, mean = 0, sd = 2)) %>%\n",
    "    mutate(response = 3 - 2* V1  + epsilon) %>%\n",
    "    mutate(group = ifelse(V1 <= 5, 1,2))\n",
    "df1"
   ]
  },
  {
   "cell_type": "markdown",
   "metadata": {},
   "source": [
    "## Asignment 1a\n",
    "\n",
    "The first assigment is to make boxplot using ggplot with group on the x-axis and V1 on the y-axis."
   ]
  },
  {
   "cell_type": "code",
   "execution_count": 39,
   "metadata": {},
   "outputs": [
    {
     "data": {},
     "metadata": {},
     "output_type": "display_data"
    },
    {
     "data": {
      "image/png": "[encoded data removed]",
      "text/plain": [
       "plot without title"
      ]
     },
     "metadata": {},
     "output_type": "display_data"
    }
   ],
   "source": [
    "plot1 <- ggplot(data=df1, aes(x = factor(group) , y = V1)) +  \n",
    "                geom_boxplot()+\n",
    "plot1\n",
    "#factor(group), because we get a warning otherwise"
   ]
  },
  {
   "cell_type": "markdown",
   "metadata": {},
   "source": [
    "## Assignment 1b\n",
    "\n",
    "Run a regression with response variable as a function of V1.\n",
    "Show the summary statistics of the regression.\n"
   ]
  },
  {
   "cell_type": "code",
   "execution_count": 14,
   "metadata": {},
   "outputs": [
    {
     "data": {
      "text/plain": [
       "\n",
       "Call:\n",
       "lm(formula = V1 ~ response, data = df1)\n",
       "\n",
       "Residuals:\n",
       "     Min       1Q   Median       3Q      Max \n",
       "-2.38273 -0.50585 -0.04045  0.68125  1.80675 \n",
       "\n",
       "Coefficients:\n",
       "            Estimate Std. Error t value Pr(>|t|)    \n",
       "(Intercept)  1.88469    0.23964   7.865 3.53e-10 ***\n",
       "response    -0.46018    0.02437 -18.880  < 2e-16 ***\n",
       "---\n",
       "Signif. codes:  0 '***' 0.001 '**' 0.01 '*' 0.05 '.' 0.1 ' ' 1\n",
       "\n",
       "Residual standard error: 0.9219 on 48 degrees of freedom\n",
       "Multiple R-squared:  0.8813,\tAdjusted R-squared:  0.8788 \n",
       "F-statistic: 356.4 on 1 and 48 DF,  p-value: < 2.2e-16\n"
      ]
     },
     "metadata": {},
     "output_type": "display_data"
    }
   ],
   "source": [
    "reg1 <- lm(data=df1, V1 ~ response)\n",
    "summary(reg1)"
   ]
  },
  {
   "cell_type": "markdown",
   "metadata": {},
   "source": [
    "check if the assumptions of linear regression are met with the `gvlma()` function."
   ]
  },
  {
   "cell_type": "code",
   "execution_count": 15,
   "metadata": {},
   "outputs": [
    {
     "data": {
      "text/plain": [
       "\n",
       "Call:\n",
       "lm(formula = V1 ~ response, data = df1)\n",
       "\n",
       "Coefficients:\n",
       "(Intercept)     response  \n",
       "     1.8847      -0.4602  \n",
       "\n",
       "\n",
       "ASSESSMENT OF THE LINEAR MODEL ASSUMPTIONS\n",
       "USING THE GLOBAL TEST ON 4 DEGREES-OF-FREEDOM:\n",
       "Level of Significance =  0.05 \n",
       "\n",
       "Call:\n",
       " gvlma(x = reg1) \n",
       "\n",
       "                     Value p-value                Decision\n",
       "Global Stat        0.58710  0.9645 Assumptions acceptable.\n",
       "Skewness           0.14850  0.7000 Assumptions acceptable.\n",
       "Kurtosis           0.05172  0.8201 Assumptions acceptable.\n",
       "Link Function      0.24979  0.6172 Assumptions acceptable.\n",
       "Heteroscedasticity 0.13710  0.7112 Assumptions acceptable."
      ]
     },
     "metadata": {},
     "output_type": "display_data"
    }
   ],
   "source": [
    "gvlma(reg1) #Assumptions are acceptable"
   ]
  },
  {
   "cell_type": "markdown",
   "metadata": {},
   "source": [
    "## Assignment 1c\n",
    "\n",
    "Make a scatterplot with: \n",
    "* V1 on the x-axis and the response on the y-axis\n",
    "* Include the regression line in red with confidence interval \n",
    "* In a classic theme\n",
    "* The x-axis should be labeled \"Predictor\", the y-axis should be labeled (\"Response\")\n",
    "\n"
   ]
  },
  {
   "cell_type": "code",
   "execution_count": 95,
   "metadata": {},
   "outputs": [
    {
     "data": {},
     "metadata": {},
     "output_type": "display_data"
    },
    {
     "data": {
      "image/png": "[encoded data removed]",
      "text/plain": [
       "plot without title"
      ]
     },
     "metadata": {},
     "output_type": "display_data"
    }
   ],
   "source": [
    "ggplot(data=df1, aes(x=V1, y=response))+\n",
    "        geom_smooth(color=\"red\",method='loess')+\n",
    "        geom_point()+\n",
    "        theme_classic()+\n",
    "        scale_x_discrete(name=\"Predictor\")+\n",
    "        scale_y_discrete(name=\"Response\")\n"
   ]
  },
  {
   "cell_type": "code",
   "execution_count": null,
   "metadata": {},
   "outputs": [],
   "source": []
  },
  {
   "cell_type": "markdown",
   "metadata": {},
   "source": [
    "# Assigment 2\n",
    "\n",
    "# Packages"
   ]
  },
  {
   "cell_type": "code",
   "execution_count": 71,
   "metadata": {},
   "outputs": [],
   "source": [
    "library(thematicmaps)\n",
    "library(tidyverse)"
   ]
  },
  {
   "cell_type": "markdown",
   "metadata": {},
   "source": [
    "## Assignment 2a\n",
    "\n",
    "First you have to read in the file \"nld_municipal_map.csv\".\n",
    "Hint: Look at the notebook of week 6 about maps."
   ]
  },
  {
   "cell_type": "code",
   "execution_count": 32,
   "metadata": {},
   "outputs": [
    {
     "data": {
      "text/html": [
       "<table>\n",
       "<thead><tr><th scope=col>name</th><th scope=col>id</th><th scope=col>x</th><th scope=col>y</th><th scope=col>order</th><th scope=col>hole</th><th scope=col>piece</th><th scope=col>group</th></tr></thead>\n",
       "<tbody>\n",
       "\t<tr><td>Appingedam</td><td>0         </td><td>251260.5  </td><td>594393.8  </td><td>1         </td><td>FALSE     </td><td>1         </td><td>0.1       </td></tr>\n",
       "\t<tr><td>Appingedam</td><td>0         </td><td>251427.8  </td><td>594486.7  </td><td>2         </td><td>FALSE     </td><td>1         </td><td>0.1       </td></tr>\n",
       "\t<tr><td>Appingedam</td><td>0         </td><td>251668.8  </td><td>594646.8  </td><td>3         </td><td>FALSE     </td><td>1         </td><td>0.1       </td></tr>\n",
       "\t<tr><td>Appingedam</td><td>0         </td><td>251713.5  </td><td>594770.9  </td><td>4         </td><td>FALSE     </td><td>1         </td><td>0.1       </td></tr>\n",
       "\t<tr><td>Appingedam</td><td>0         </td><td>251354.6  </td><td>595461.4  </td><td>5         </td><td>FALSE     </td><td>1         </td><td>0.1       </td></tr>\n",
       "\t<tr><td>Appingedam</td><td>0         </td><td>251310.3  </td><td>596022.5  </td><td>6         </td><td>FALSE     </td><td>1         </td><td>0.1       </td></tr>\n",
       "</tbody>\n",
       "</table>\n"
      ],
      "text/latex": [
       "\\begin{tabular}{r|llllllll}\n",
       " name & id & x & y & order & hole & piece & group\\\\\n",
       "\\hline\n",
       "\t Appingedam & 0          & 251260.5   & 594393.8   & 1          & FALSE      & 1          & 0.1       \\\\\n",
       "\t Appingedam & 0          & 251427.8   & 594486.7   & 2          & FALSE      & 1          & 0.1       \\\\\n",
       "\t Appingedam & 0          & 251668.8   & 594646.8   & 3          & FALSE      & 1          & 0.1       \\\\\n",
       "\t Appingedam & 0          & 251713.5   & 594770.9   & 4          & FALSE      & 1          & 0.1       \\\\\n",
       "\t Appingedam & 0          & 251354.6   & 595461.4   & 5          & FALSE      & 1          & 0.1       \\\\\n",
       "\t Appingedam & 0          & 251310.3   & 596022.5   & 6          & FALSE      & 1          & 0.1       \\\\\n",
       "\\end{tabular}\n"
      ],
      "text/markdown": [
       "\n",
       "name | id | x | y | order | hole | piece | group | \n",
       "|---|---|---|---|---|---|\n",
       "| Appingedam | 0          | 251260.5   | 594393.8   | 1          | FALSE      | 1          | 0.1        | \n",
       "| Appingedam | 0          | 251427.8   | 594486.7   | 2          | FALSE      | 1          | 0.1        | \n",
       "| Appingedam | 0          | 251668.8   | 594646.8   | 3          | FALSE      | 1          | 0.1        | \n",
       "| Appingedam | 0          | 251713.5   | 594770.9   | 4          | FALSE      | 1          | 0.1        | \n",
       "| Appingedam | 0          | 251354.6   | 595461.4   | 5          | FALSE      | 1          | 0.1        | \n",
       "| Appingedam | 0          | 251310.3   | 596022.5   | 6          | FALSE      | 1          | 0.1        | \n",
       "\n",
       "\n"
      ],
      "text/plain": [
       "  name       id x        y        order hole  piece group\n",
       "1 Appingedam 0  251260.5 594393.8 1     FALSE 1     0.1  \n",
       "2 Appingedam 0  251427.8 594486.7 2     FALSE 1     0.1  \n",
       "3 Appingedam 0  251668.8 594646.8 3     FALSE 1     0.1  \n",
       "4 Appingedam 0  251713.5 594770.9 4     FALSE 1     0.1  \n",
       "5 Appingedam 0  251354.6 595461.4 5     FALSE 1     0.1  \n",
       "6 Appingedam 0  251310.3 596022.5 6     FALSE 1     0.1  "
      ]
     },
     "metadata": {},
     "output_type": "display_data"
    }
   ],
   "source": [
    "map_municipal <- read.csv2(\"../Eindopdracht/Data/nld_municipal_map.csv\", stringsAsFactors = FALSE, dec = \".\")\n",
    "head(map_municipal)"
   ]
  },
  {
   "cell_type": "markdown",
   "metadata": {},
   "source": [
    "## Assignment 2b\n",
    "\n",
    "Now you can make an empty map of the Netherlands."
   ]
  },
  {
   "cell_type": "code",
   "execution_count": 53,
   "metadata": {},
   "outputs": [
    {
     "data": {},
     "metadata": {},
     "output_type": "display_data"
    },
    {
     "data": {
      "image/png": "[encoded data removed]",
      "text/plain": [
       "plot without title"
      ]
     },
     "metadata": {},
     "output_type": "display_data"
    }
   ],
   "source": [
    "AddMapLayer(MapPlot(), map_municipal)\n"
   ]
  },
  {
   "cell_type": "markdown",
   "metadata": {},
   "source": [
    "## Assignment 2c\n",
    "\n",
    "Read in the pc4 locations (nld_pc4_locations.csv).\n",
    "\n",
    "Hint: Don't forget the X and Y should be numeric variables!"
   ]
  },
  {
   "cell_type": "code",
   "execution_count": null,
   "metadata": {},
   "outputs": [],
   "source": [
    "pc4_locations <- read.csv2(\"../Eindopdracht/Data/nld_pc4_locations.csv\") %>%\n",
    "  mutate(X = as.numeric(as.character(X))) %>%\n",
    "   mutate(Y = as.numeric(as.character(Y)))\n",
    "\n",
    "str(pc4_locations)"
   ]
  },
  {
   "cell_type": "markdown",
   "metadata": {},
   "source": [
    "## Assignment 2d\n",
    "\n",
    "### 2di\n",
    "\n",
    "Read in the school data\n"
   ]
  },
  {
   "cell_type": "code",
   "execution_count": 49,
   "metadata": {},
   "outputs": [
    {
     "data": {
      "text/html": [
       "<table>\n",
       "<thead><tr><th scope=col>PROVINCIE</th><th scope=col>BEVOEGD.GEZAG.NUMMER</th><th scope=col>BRIN.NUMMER</th><th scope=col>VESTIGINGSNUMMER</th><th scope=col>VESTIGINGSNAAM</th><th scope=col>STRAATNAAM</th><th scope=col>HUISNUMMER.TOEVOEGING</th><th scope=col>POSTCODE</th><th scope=col>PLAATSNAAM</th><th scope=col>GEMEENTENUMMER</th><th scope=col>...</th><th scope=col>RPA.GEBIED.CODE</th><th scope=col>RPA.GEBIED.NAAM</th><th scope=col>WGR.GEBIED.CODE</th><th scope=col>WGR.GEBIED.NAAM</th><th scope=col>COROPGEBIED.CODE</th><th scope=col>COROPGEBIED.NAAM</th><th scope=col>ONDERWIJSGEBIED.CODE</th><th scope=col>ONDERWIJSGEBIED.NAAM</th><th scope=col>RMC.REGIO.CODE</th><th scope=col>RMC.REGIO.NAAM</th></tr></thead>\n",
       "<tbody>\n",
       "\t<tr><td>                                                                         </td><td>41152                                                                    </td><td>23HC                                                                     </td><td>23HC04                                                                   </td><td>RSG Lingecollege                                                         </td><td>                                                                         </td><td>                                                                         </td><td>                                                                         </td><td>                                                                         </td><td>  NA                                                                     </td><td>...                                                                      </td><td>NA                                                                       </td><td>                                                                         </td><td>NA                                                                       </td><td>                                                                         </td><td>NA                                                                       </td><td>                                                                         </td><td>NA                                                                       </td><td>                                                                         </td><td>NA                                                                       </td><td>                                                                         </td></tr>\n",
       "\t<tr><td>Drenthe                                                                  </td><td>10053                                                                    </td><td>18BR                                                                     </td><td>18BR00                                                                   </td><td>School voor Praktijkonderwijs Assen                                      </td><td>Zwartwatersweg                                                           </td><td>202                                                                      </td><td>9406 NN                                                                  </td><td>ASSEN                                                                    </td><td> 106                                                                     </td><td>...                                                                      </td><td> 3                                                                       </td><td>Centraal-Groningen                                                       </td><td> 7                                                                       </td><td>Noord- en Midden-Drenthe                                                 </td><td> 7                                                                       </td><td>Noord-Drenthe                                                            </td><td> 4                                                                       </td><td>Assen-Hoogeveen-Emmen                                                    </td><td> 7                                                                       </td><td>Noord- en Midden Drenthe                                                 </td></tr>\n",
       "\t<tr><td>Drenthe                                                                  </td><td>10053                                                                    </td><td>18BR                                                                     </td><td>18BR01                                                                   </td><td>School voor Praktijkonderwijs Assen                                      </td><td>Bosrand                                                                  </td><td>2                                                                        </td><td>9401 SL                                                                  </td><td>ASSEN                                                                    </td><td> 106                                                                     </td><td>...                                                                      </td><td> 3                                                                       </td><td>Centraal-Groningen                                                       </td><td> 7                                                                       </td><td>Noord- en Midden-Drenthe                                                 </td><td> 7                                                                       </td><td>Noord-Drenthe                                                            </td><td> 4                                                                       </td><td>Assen-Hoogeveen-Emmen                                                    </td><td> 7                                                                       </td><td>Noord- en Midden Drenthe                                                 </td></tr>\n",
       "\t<tr><td>Drenthe                                                                  </td><td>13273                                                                    </td><td>20LO                                                                     </td><td>20LO00                                                                   </td><td>Openbare Scholengemeenschap Dr Nassau College voor Vwo Havo Mavo Vbo Lwoo</td><td>Mr Groen v Prinstererln                                                  </td><td>98                                                                       </td><td>9402 KG                                                                  </td><td>ASSEN                                                                    </td><td> 106                                                                     </td><td>...                                                                      </td><td> 3                                                                       </td><td>Centraal-Groningen                                                       </td><td> 7                                                                       </td><td>Noord- en Midden-Drenthe                                                 </td><td> 7                                                                       </td><td>Noord-Drenthe                                                            </td><td> 4                                                                       </td><td>Assen-Hoogeveen-Emmen                                                    </td><td> 7                                                                       </td><td>Noord- en Midden Drenthe                                                 </td></tr>\n",
       "\t<tr><td>Drenthe                                                                  </td><td>13273                                                                    </td><td>20LO                                                                     </td><td>20LO01                                                                   </td><td>Openbare Scholengemeenschap Dr Nassau College voor Vwo Havo Mavo Vbo Lwoo</td><td>Schoolstraat                                                             </td><td>1                                                                        </td><td>9331 AV                                                                  </td><td>NORG                                                                     </td><td>1699                                                                     </td><td>...                                                                      </td><td> 3                                                                       </td><td>Centraal-Groningen                                                       </td><td> 7                                                                       </td><td>Noord- en Midden-Drenthe                                                 </td><td> 7                                                                       </td><td>Noord-Drenthe                                                            </td><td> 1                                                                       </td><td>Groningen en omstreken                                                   </td><td> 7                                                                       </td><td>Noord- en Midden Drenthe                                                 </td></tr>\n",
       "\t<tr><td>Drenthe                                                                  </td><td>13273                                                                    </td><td>20LO                                                                     </td><td>20LO02                                                                   </td><td>Openbare Scholengemeenschap Dr Nassau College voor Vwo Havo Mavo Vbo Lwoo</td><td>Esdoornlaan                                                              </td><td>2                                                                        </td><td>9411 AV                                                                  </td><td>BEILEN                                                                   </td><td>1731                                                                     </td><td>...                                                                      </td><td> 5                                                                       </td><td>Zuid- en Midden-Drenthe                                                  </td><td> 7                                                                       </td><td>Noord- en Midden-Drenthe                                                 </td><td> 7                                                                       </td><td>Noord-Drenthe                                                            </td><td> 4                                                                       </td><td>Assen-Hoogeveen-Emmen                                                    </td><td> 7                                                                       </td><td>Noord- en Midden Drenthe                                                 </td></tr>\n",
       "</tbody>\n",
       "</table>\n"
      ],
      "text/latex": [
       "\\begin{tabular}{r|lllllllllllllllllllllllllllllll}\n",
       " PROVINCIE & BEVOEGD.GEZAG.NUMMER & BRIN.NUMMER & VESTIGINGSNUMMER & VESTIGINGSNAAM & STRAATNAAM & HUISNUMMER.TOEVOEGING & POSTCODE & PLAATSNAAM & GEMEENTENUMMER & ... & RPA.GEBIED.CODE & RPA.GEBIED.NAAM & WGR.GEBIED.CODE & WGR.GEBIED.NAAM & COROPGEBIED.CODE & COROPGEBIED.NAAM & ONDERWIJSGEBIED.CODE & ONDERWIJSGEBIED.NAAM & RMC.REGIO.CODE & RMC.REGIO.NAAM\\\\\n",
       "\\hline\n",
       "\t                                                                           & 41152                                                                     & 23HC                                                                      & 23HC04                                                                    & RSG Lingecollege                                                          &                                                                           &                                                                           &                                                                           &                                                                           &   NA                                                                      & ...                                                                       & NA                                                                        &                                                                           & NA                                                                        &                                                                           & NA                                                                        &                                                                           & NA                                                                        &                                                                           & NA                                                                        &                                                                          \\\\\n",
       "\t Drenthe                                                                   & 10053                                                                     & 18BR                                                                      & 18BR00                                                                    & School voor Praktijkonderwijs Assen                                       & Zwartwatersweg                                                            & 202                                                                       & 9406 NN                                                                   & ASSEN                                                                     &  106                                                                      & ...                                                                       &  3                                                                        & Centraal-Groningen                                                        &  7                                                                        & Noord- en Midden-Drenthe                                                  &  7                                                                        & Noord-Drenthe                                                             &  4                                                                        & Assen-Hoogeveen-Emmen                                                     &  7                                                                        & Noord- en Midden Drenthe                                                 \\\\\n",
       "\t Drenthe                                                                   & 10053                                                                     & 18BR                                                                      & 18BR01                                                                    & School voor Praktijkonderwijs Assen                                       & Bosrand                                                                   & 2                                                                         & 9401 SL                                                                   & ASSEN                                                                     &  106                                                                      & ...                                                                       &  3                                                                        & Centraal-Groningen                                                        &  7                                                                        & Noord- en Midden-Drenthe                                                  &  7                                                                        & Noord-Drenthe                                                             &  4                                                                        & Assen-Hoogeveen-Emmen                                                     &  7                                                                        & Noord- en Midden Drenthe                                                 \\\\\n",
       "\t Drenthe                                                                   & 13273                                                                     & 20LO                                                                      & 20LO00                                                                    & Openbare Scholengemeenschap Dr Nassau College voor Vwo Havo Mavo Vbo Lwoo & Mr Groen v Prinstererln                                                   & 98                                                                        & 9402 KG                                                                   & ASSEN                                                                     &  106                                                                      & ...                                                                       &  3                                                                        & Centraal-Groningen                                                        &  7                                                                        & Noord- en Midden-Drenthe                                                  &  7                                                                        & Noord-Drenthe                                                             &  4                                                                        & Assen-Hoogeveen-Emmen                                                     &  7                                                                        & Noord- en Midden Drenthe                                                 \\\\\n",
       "\t Drenthe                                                                   & 13273                                                                     & 20LO                                                                      & 20LO01                                                                    & Openbare Scholengemeenschap Dr Nassau College voor Vwo Havo Mavo Vbo Lwoo & Schoolstraat                                                              & 1                                                                         & 9331 AV                                                                   & NORG                                                                      & 1699                                                                      & ...                                                                       &  3                                                                        & Centraal-Groningen                                                        &  7                                                                        & Noord- en Midden-Drenthe                                                  &  7                                                                        & Noord-Drenthe                                                             &  1                                                                        & Groningen en omstreken                                                    &  7                                                                        & Noord- en Midden Drenthe                                                 \\\\\n",
       "\t Drenthe                                                                   & 13273                                                                     & 20LO                                                                      & 20LO02                                                                    & Openbare Scholengemeenschap Dr Nassau College voor Vwo Havo Mavo Vbo Lwoo & Esdoornlaan                                                               & 2                                                                         & 9411 AV                                                                   & BEILEN                                                                    & 1731                                                                      & ...                                                                       &  5                                                                        & Zuid- en Midden-Drenthe                                                   &  7                                                                        & Noord- en Midden-Drenthe                                                  &  7                                                                        & Noord-Drenthe                                                             &  4                                                                        & Assen-Hoogeveen-Emmen                                                     &  7                                                                        & Noord- en Midden Drenthe                                                 \\\\\n",
       "\\end{tabular}\n"
      ],
      "text/markdown": [
       "\n",
       "PROVINCIE | BEVOEGD.GEZAG.NUMMER | BRIN.NUMMER | VESTIGINGSNUMMER | VESTIGINGSNAAM | STRAATNAAM | HUISNUMMER.TOEVOEGING | POSTCODE | PLAATSNAAM | GEMEENTENUMMER | ... | RPA.GEBIED.CODE | RPA.GEBIED.NAAM | WGR.GEBIED.CODE | WGR.GEBIED.NAAM | COROPGEBIED.CODE | COROPGEBIED.NAAM | ONDERWIJSGEBIED.CODE | ONDERWIJSGEBIED.NAAM | RMC.REGIO.CODE | RMC.REGIO.NAAM | \n",
       "|---|---|---|---|---|---|\n",
       "|                                                                           | 41152                                                                     | 23HC                                                                      | 23HC04                                                                    | RSG Lingecollege                                                          |                                                                           |                                                                           |                                                                           |                                                                           |   NA                                                                      | ...                                                                       | NA                                                                        |                                                                           | NA                                                                        |                                                                           | NA                                                                        |                                                                           | NA                                                                        |                                                                           | NA                                                                        |                                                                           | \n",
       "| Drenthe                                                                   | 10053                                                                     | 18BR                                                                      | 18BR00                                                                    | School voor Praktijkonderwijs Assen                                       | Zwartwatersweg                                                            | 202                                                                       | 9406 NN                                                                   | ASSEN                                                                     |  106                                                                      | ...                                                                       |  3                                                                        | Centraal-Groningen                                                        |  7                                                                        | Noord- en Midden-Drenthe                                                  |  7                                                                        | Noord-Drenthe                                                             |  4                                                                        | Assen-Hoogeveen-Emmen                                                     |  7                                                                        | Noord- en Midden Drenthe                                                  | \n",
       "| Drenthe                                                                   | 10053                                                                     | 18BR                                                                      | 18BR01                                                                    | School voor Praktijkonderwijs Assen                                       | Bosrand                                                                   | 2                                                                         | 9401 SL                                                                   | ASSEN                                                                     |  106                                                                      | ...                                                                       |  3                                                                        | Centraal-Groningen                                                        |  7                                                                        | Noord- en Midden-Drenthe                                                  |  7                                                                        | Noord-Drenthe                                                             |  4                                                                        | Assen-Hoogeveen-Emmen                                                     |  7                                                                        | Noord- en Midden Drenthe                                                  | \n",
       "| Drenthe                                                                   | 13273                                                                     | 20LO                                                                      | 20LO00                                                                    | Openbare Scholengemeenschap Dr Nassau College voor Vwo Havo Mavo Vbo Lwoo | Mr Groen v Prinstererln                                                   | 98                                                                        | 9402 KG                                                                   | ASSEN                                                                     |  106                                                                      | ...                                                                       |  3                                                                        | Centraal-Groningen                                                        |  7                                                                        | Noord- en Midden-Drenthe                                                  |  7                                                                        | Noord-Drenthe                                                             |  4                                                                        | Assen-Hoogeveen-Emmen                                                     |  7                                                                        | Noord- en Midden Drenthe                                                  | \n",
       "| Drenthe                                                                   | 13273                                                                     | 20LO                                                                      | 20LO01                                                                    | Openbare Scholengemeenschap Dr Nassau College voor Vwo Havo Mavo Vbo Lwoo | Schoolstraat                                                              | 1                                                                         | 9331 AV                                                                   | NORG                                                                      | 1699                                                                      | ...                                                                       |  3                                                                        | Centraal-Groningen                                                        |  7                                                                        | Noord- en Midden-Drenthe                                                  |  7                                                                        | Noord-Drenthe                                                             |  1                                                                        | Groningen en omstreken                                                    |  7                                                                        | Noord- en Midden Drenthe                                                  | \n",
       "| Drenthe                                                                   | 13273                                                                     | 20LO                                                                      | 20LO02                                                                    | Openbare Scholengemeenschap Dr Nassau College voor Vwo Havo Mavo Vbo Lwoo | Esdoornlaan                                                               | 2                                                                         | 9411 AV                                                                   | BEILEN                                                                    | 1731                                                                      | ...                                                                       |  5                                                                        | Zuid- en Midden-Drenthe                                                   |  7                                                                        | Noord- en Midden-Drenthe                                                  |  7                                                                        | Noord-Drenthe                                                             |  4                                                                        | Assen-Hoogeveen-Emmen                                                     |  7                                                                        | Noord- en Midden Drenthe                                                  | \n",
       "\n",
       "\n"
      ],
      "text/plain": [
       "  PROVINCIE            BEVOEGD.GEZAG.NUMMER BRIN.NUMMER VESTIGINGSNUMMER\n",
       "1                      41152                23HC        23HC04          \n",
       "2 Drenthe              10053                18BR        18BR00          \n",
       "3 Drenthe              10053                18BR        18BR01          \n",
       "4 Drenthe              13273                20LO        20LO00          \n",
       "5 Drenthe              13273                20LO        20LO01          \n",
       "6 Drenthe              13273                20LO        20LO02          \n",
       "  VESTIGINGSNAAM                                                           \n",
       "1 RSG Lingecollege                                                         \n",
       "2 School voor Praktijkonderwijs Assen                                      \n",
       "3 School voor Praktijkonderwijs Assen                                      \n",
       "4 Openbare Scholengemeenschap Dr Nassau College voor Vwo Havo Mavo Vbo Lwoo\n",
       "5 Openbare Scholengemeenschap Dr Nassau College voor Vwo Havo Mavo Vbo Lwoo\n",
       "6 Openbare Scholengemeenschap Dr Nassau College voor Vwo Havo Mavo Vbo Lwoo\n",
       "  STRAATNAAM               HUISNUMMER.TOEVOEGING POSTCODE\n",
       "1                                                        \n",
       "2 Zwartwatersweg           202                   9406 NN \n",
       "3 Bosrand                  2                     9401 SL \n",
       "4 Mr Groen v Prinstererln  98                    9402 KG \n",
       "5 Schoolstraat             1                     9331 AV \n",
       "6 Esdoornlaan              2                     9411 AV \n",
       "  PLAATSNAAM               GEMEENTENUMMER ... RPA.GEBIED.CODE\n",
       "1                            NA           ... NA             \n",
       "2 ASSEN                     106           ...  3             \n",
       "3 ASSEN                     106           ...  3             \n",
       "4 ASSEN                     106           ...  3             \n",
       "5 NORG                     1699           ...  3             \n",
       "6 BEILEN                   1731           ...  5             \n",
       "  RPA.GEBIED.NAAM          WGR.GEBIED.CODE\n",
       "1                          NA             \n",
       "2 Centraal-Groningen        7             \n",
       "3 Centraal-Groningen        7             \n",
       "4 Centraal-Groningen        7             \n",
       "5 Centraal-Groningen        7             \n",
       "6 Zuid- en Midden-Drenthe   7             \n",
       "  WGR.GEBIED.NAAM                         COROPGEBIED.CODE\n",
       "1                                         NA              \n",
       "2 Noord- en Midden-Drenthe                 7              \n",
       "3 Noord- en Midden-Drenthe                 7              \n",
       "4 Noord- en Midden-Drenthe                 7              \n",
       "5 Noord- en Midden-Drenthe                 7              \n",
       "6 Noord- en Midden-Drenthe                 7              \n",
       "  COROPGEBIED.NAAM                    ONDERWIJSGEBIED.CODE\n",
       "1                                     NA                  \n",
       "2 Noord-Drenthe                        4                  \n",
       "3 Noord-Drenthe                        4                  \n",
       "4 Noord-Drenthe                        4                  \n",
       "5 Noord-Drenthe                        1                  \n",
       "6 Noord-Drenthe                        4                  \n",
       "  ONDERWIJSGEBIED.NAAM             RMC.REGIO.CODE\n",
       "1                                  NA            \n",
       "2 Assen-Hoogeveen-Emmen             7            \n",
       "3 Assen-Hoogeveen-Emmen             7            \n",
       "4 Assen-Hoogeveen-Emmen             7            \n",
       "5 Groningen en omstreken            7            \n",
       "6 Assen-Hoogeveen-Emmen             7            \n",
       "  RMC.REGIO.NAAM                          \n",
       "1                                         \n",
       "2 Noord- en Midden Drenthe                \n",
       "3 Noord- en Midden Drenthe                \n",
       "4 Noord- en Midden Drenthe                \n",
       "5 Noord- en Midden Drenthe                \n",
       "6 Noord- en Midden Drenthe                "
      ]
     },
     "metadata": {},
     "output_type": "display_data"
    }
   ],
   "source": [
    "schools <- read.csv2(\"../Eindopdracht/Data/schools.csv\")\n",
    "head(schools)"
   ]
  },
  {
   "cell_type": "markdown",
   "metadata": {},
   "source": [
    "### 2dii\n",
    "\n",
    "First, create a new dataframe schools1, which is equal to schools.\n",
    "\n",
    "As you see POSTCODE has a structure of (1234 AB). You should create a new variable PC4 that is equal to the first 4 numbers in POSTCODE\n",
    "\n",
    "Hint: Use the function `substr()`\n",
    "\n",
    "Then select the variables PC4 and DENOMINATIE"
   ]
  },
  {
   "cell_type": "code",
   "execution_count": 97,
   "metadata": {},
   "outputs": [],
   "source": [
    "schools1 <- schools %>%\n",
    "        mutate(PC4 = substr(POSTCODE, 1, 4))\n",
    "schools1 <- schools1[c('DENOMINATIE', 'PC4')]"
   ]
  },
  {
   "cell_type": "code",
   "execution_count": 103,
   "metadata": {},
   "outputs": [
    {
     "data": {
      "text/html": [
       "<table>\n",
       "<thead><tr><th scope=col>DENOMINATIE</th><th scope=col>PC4</th></tr></thead>\n",
       "<tbody>\n",
       "\t<tr><td>Openbaar</td><td>        </td></tr>\n",
       "\t<tr><td>Openbaar</td><td>9406    </td></tr>\n",
       "\t<tr><td>Openbaar</td><td>9401    </td></tr>\n",
       "\t<tr><td>Openbaar</td><td>9402    </td></tr>\n",
       "\t<tr><td>Openbaar</td><td>9331    </td></tr>\n",
       "\t<tr><td>Openbaar</td><td>9411    </td></tr>\n",
       "</tbody>\n",
       "</table>\n"
      ],
      "text/latex": [
       "\\begin{tabular}{r|ll}\n",
       " DENOMINATIE & PC4\\\\\n",
       "\\hline\n",
       "\t Openbaar &         \\\\\n",
       "\t Openbaar & 9406    \\\\\n",
       "\t Openbaar & 9401    \\\\\n",
       "\t Openbaar & 9402    \\\\\n",
       "\t Openbaar & 9331    \\\\\n",
       "\t Openbaar & 9411    \\\\\n",
       "\\end{tabular}\n"
      ],
      "text/markdown": [
       "\n",
       "DENOMINATIE | PC4 | \n",
       "|---|---|---|---|---|---|\n",
       "| Openbaar |          | \n",
       "| Openbaar | 9406     | \n",
       "| Openbaar | 9401     | \n",
       "| Openbaar | 9402     | \n",
       "| Openbaar | 9331     | \n",
       "| Openbaar | 9411     | \n",
       "\n",
       "\n"
      ],
      "text/plain": [
       "  DENOMINATIE PC4 \n",
       "1 Openbaar        \n",
       "2 Openbaar    9406\n",
       "3 Openbaar    9401\n",
       "4 Openbaar    9402\n",
       "5 Openbaar    9331\n",
       "6 Openbaar    9411"
      ]
     },
     "metadata": {},
     "output_type": "display_data"
    }
   ],
   "source": [
    "head(schools1)"
   ]
  },
  {
   "cell_type": "markdown",
   "metadata": {},
   "source": [
    "### 2diii\n",
    "\n",
    "Create the dataframe school_loc as a join from pc4_locations and school1 that combines the columns from both data frames, but only keeps rows where the value in the pc4_locations column matches in both data frames.\n",
    "And then select the observations with DENOMINATIE is equal to \"Rooms-Katholiek\" or \"Protestants-Christelijk\""
   ]
  },
  {
   "cell_type": "code",
   "execution_count": 101,
   "metadata": {},
   "outputs": [
    {
     "data": {
      "text/html": [
       "<table>\n",
       "<thead><tr><th></th><th scope=col>PC4</th><th scope=col>X</th><th scope=col>Y</th><th scope=col>DENOMINATIE</th></tr></thead>\n",
       "<tbody>\n",
       "\t<tr><th scope=row>31</th><td>1065                   </td><td>116701.2               </td><td>485645.8               </td><td>Protestants-Christelijk</td></tr>\n",
       "\t<tr><th scope=row>37</th><td>1071                   </td><td>120223.0               </td><td>485571.3               </td><td>Rooms-Katholiek        </td></tr>\n",
       "\t<tr><th scope=row>50</th><td>1077                   </td><td>120152.7               </td><td>484262.8               </td><td>Protestants-Christelijk</td></tr>\n",
       "\t<tr><th scope=row>53</th><td>1077                   </td><td>120152.7               </td><td>484262.8               </td><td>Rooms-Katholiek        </td></tr>\n",
       "\t<tr><th scope=row>57</th><td>1081                   </td><td>118277.6               </td><td>482449.5               </td><td>Protestants-Christelijk</td></tr>\n",
       "\t<tr><th scope=row>80</th><td>1132                   </td><td>132947.2               </td><td>501873.0               </td><td>Rooms-Katholiek        </td></tr>\n",
       "</tbody>\n",
       "</table>\n"
      ],
      "text/latex": [
       "\\begin{tabular}{r|llll}\n",
       "  & PC4 & X & Y & DENOMINATIE\\\\\n",
       "\\hline\n",
       "\t31 & 1065                    & 116701.2                & 485645.8                & Protestants-Christelijk\\\\\n",
       "\t37 & 1071                    & 120223.0                & 485571.3                & Rooms-Katholiek        \\\\\n",
       "\t50 & 1077                    & 120152.7                & 484262.8                & Protestants-Christelijk\\\\\n",
       "\t53 & 1077                    & 120152.7                & 484262.8                & Rooms-Katholiek        \\\\\n",
       "\t57 & 1081                    & 118277.6                & 482449.5                & Protestants-Christelijk\\\\\n",
       "\t80 & 1132                    & 132947.2                & 501873.0                & Rooms-Katholiek        \\\\\n",
       "\\end{tabular}\n"
      ],
      "text/markdown": [
       "\n",
       "| <!--/--> | PC4 | X | Y | DENOMINATIE | \n",
       "|---|---|---|---|---|---|\n",
       "| 31 | 1065                    | 116701.2                | 485645.8                | Protestants-Christelijk | \n",
       "| 37 | 1071                    | 120223.0                | 485571.3                | Rooms-Katholiek         | \n",
       "| 50 | 1077                    | 120152.7                | 484262.8                | Protestants-Christelijk | \n",
       "| 53 | 1077                    | 120152.7                | 484262.8                | Rooms-Katholiek         | \n",
       "| 57 | 1081                    | 118277.6                | 482449.5                | Protestants-Christelijk | \n",
       "| 80 | 1132                    | 132947.2                | 501873.0                | Rooms-Katholiek         | \n",
       "\n",
       "\n"
      ],
      "text/plain": [
       "   PC4  X        Y        DENOMINATIE            \n",
       "31 1065 116701.2 485645.8 Protestants-Christelijk\n",
       "37 1071 120223.0 485571.3 Rooms-Katholiek        \n",
       "50 1077 120152.7 484262.8 Protestants-Christelijk\n",
       "53 1077 120152.7 484262.8 Rooms-Katholiek        \n",
       "57 1081 118277.6 482449.5 Protestants-Christelijk\n",
       "80 1132 132947.2 501873.0 Rooms-Katholiek        "
      ]
     },
     "metadata": {},
     "output_type": "display_data"
    }
   ],
   "source": [
    "school_loc <- merge(pc4_locations, schools1, by='PC4', all = FALSE)\n",
    "school_loc <- subset(school_loc, DENOMINATIE == \"Rooms-Katholiek\" | DENOMINATIE == \"Protestants-Christelijk\")\n",
    "head(school_loc)"
   ]
  },
  {
   "cell_type": "markdown",
   "metadata": {},
   "source": [
    "## Assignment 2e\n",
    "\n",
    "Create a map of Catholic and Protestant schools in the Netherlands\n"
   ]
  },
  {
   "cell_type": "code",
   "execution_count": 108,
   "metadata": {},
   "outputs": [
    {
     "data": {},
     "metadata": {},
     "output_type": "display_data"
    },
    {
     "data": {
      "image/png": "[encoded data removed]",
      "text/plain": [
       "plot without title"
      ]
     },
     "metadata": {},
     "output_type": "display_data"
    }
   ],
   "source": [
    "AddMapLayer(MapPlot(), map_municipal) %>%\n",
    "AddPointsLayer(school_loc, columnNameColor=\"DENOMINATIE\")"
   ]
  },
  {
   "cell_type": "markdown",
   "metadata": {},
   "source": [
    "End of notebook"
   ]
  },
  {
   "cell_type": "code",
   "execution_count": null,
   "metadata": {},
   "outputs": [],
   "source": []
  }
 ],
 "metadata": {
  "anaconda-cloud": {},
  "kernelspec": {
   "display_name": "R",
   "language": "R",
   "name": "ir"
  },
  "language_info": {
   "codemirror_mode": "r",
   "file_extension": ".r",
   "mimetype": "text/x-r-source",
   "name": "R",
   "pygments_lexer": "r",
   "version": "3.4.3"
  }
 },
 "nbformat": 4,
 "nbformat_minor": 1
}
